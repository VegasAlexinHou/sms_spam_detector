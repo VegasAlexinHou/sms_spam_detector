# Import pandas
import pandas as pd
# Import the required dependencies from sklearn
from sklearn.model_selection import train_test_split
from sklearn.pipeline import Pipeline
from sklearn.feature_extraction.text import TfidfVectorizer
from sklearn.svm import LinearSVC

# Set the column width to view the text message data.
pd.set_option('max_colwidth', 200)

# Install gradio if not already installed
try:
    import gradio as gr
except ModuleNotFoundError:
    !pip install gradio
    import gradio as gr


def create_sms_classification_model(data_file):
    # Load the dataset into a DataFrame
    sms_text_df = pd.read_csv(data_file)
    
    # Set the features variable to the text message column
    X = sms_text_df['text_message']  
    # Set the target variable to the "label" column
    y = sms_text_df['label']
    
    # Split data into training and testing and set the test_size = 33%
    X_train, X_test, y_train, y_test = train_test_split(X, y, test_size=0.33, random_state=42)
    
    # Build a pipeline to transform the test set to compare to the training set
    text_clf = Pipeline([('tfidf', TfidfVectorizer(stop_words='english')),
                         ('clf', LinearSVC()),
    ])
    
    # Fit the model to the transformed data
    text_clf.fit(X_train, y_train)  
    
    return text_clf

# Call the function to create the model
model = create_sms_classification_model('Resources/SMSSpamCollection.csv')


# Load the dataset into a DataFrame
data_file = "Resources/SMSSpamCollection.csv"
sms_text_df = pd.read_csv(data_file)


# Call the sms_classification function with the DataFrame and set the result to the "text_clf" variable# Create a function called `sms_prediction` that takes in the SMS text and predicts whether the text is "not spam" or "spam".
# The function should return the SMS message, and say whether the text is "not spam" or "spam".
def sms_prediction(text):
    """
    Predict the spam/ham classification of a given text message using a pre-trained model.

    Parameters:
    - text (str): The text message to be classified.

    Returns:
    - str: A message indicating whether the text message is classified as spam or not.
    """
    # Make a prediction using the pre-trained model
    prediction = text_clf.predict([text])[0]
    
    # Return the prediction message
    if prediction == 'ham':
        return f'The text message: "{text}", is not spam.'
    else:
        return f'The text message: "{text}", is spam.'
text_clf = create_sms_classification_model(data_file)


def sms_prediction(text):
    """
    Predict the spam/ham classification of a given text message using a pre-trained model.

    Parameters:
    - text (str): The text message to be classified.

    Returns:
    - str: A message indicating whether the text message is classified as spam or not.

    This function takes a text message and a pre-trained pipeline model, then predicts the
    spam/ham classification of the text. The result is a message stating whether the text is
    classified as spam or not.
    """
    # Create a variable that will hold the prediction of a new text.
    prediction = text_clf.predict([text])[0]
    
    # Using a conditional if the prediction is "ham" return the message:
    if prediction == 'ham':
        return f'The text message: "{text}", is not spam.'
    else:
        return f'The text message: "{text}", is spam.'
    


# Create a sms_app that takes a textbox for the inputs and has a textbox for the output.
# Provide labels for each textbox.
sms_app = gr.Interface(fn=sms_prediction, inputs="text", outputs="text", title="SMS Spam Detection")







